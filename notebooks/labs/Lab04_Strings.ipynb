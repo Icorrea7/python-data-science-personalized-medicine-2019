{
 "cells": [
  {
   "cell_type": "markdown",
   "metadata": {},
   "source": [
    "# Lab 04. Strings."
   ]
  },
  {
   "cell_type": "markdown",
   "metadata": {},
   "source": [
    "# Exercises\n",
    "\n",
    "[P4_01. Count uppercase letters](#P4_01.)  \n",
    "[P4_02. Search for character](#P4_02.)  \n",
    "[P4_03. Words ending in s](#P4_03.)  \n",
    "[P4_04. Finding digits sequences](#P4_04.)   \n",
    "[P4_05. Some digit](#P4_05.)  \n",
    "[P4_06. All digits](#P4_06.)  \n",
    "[P4_07. Replace digits](#P4_07.)   \n",
    "[P4_08. Sequences of + -](#P4_08.)   \n",
    "[P4_09. Palindrome](#P4_09.)  \n",
    "[P4_10. Word triangle](#P4_10.)    \n",
    "[P4_11. Uppercase first](#P4_11.)  \n"
   ]
  },
  {
   "cell_type": "markdown",
   "metadata": {},
   "source": [
    "### P4_01.  \n",
    "Write a program that reads an string from terminal, counts the number of characters and says how many of then are uppercasse.  \n",
    "\n",
    "Example:  \n",
    "~~~\n",
    "Input your string: My hoUse is VerY BiG \n",
    "Your sentence has 20 characters, 8 of them are uppercase.\n",
    "~~~\n"
   ]
  },
  {
   "cell_type": "code",
   "execution_count": null,
   "metadata": {
    "collapsed": true
   },
   "outputs": [],
   "source": [
    "sentence = input('Input your string: ')\n",
    "\n",
    "uppercase = [letter for letter in sentence if letter.isupper()  ]\n",
    "print('Your sentence has {} characters, {} of them are uppercase.'.format(len(sentence),len(uppercase)))"
   ]
  },
  {
   "cell_type": "markdown",
   "metadata": {},
   "source": [
    "### P4_02.  \n",
    "Write a program that reads a sentence from terminal and the asks for a character. The program will tell us how many times the charcter appears in the sentence (if any) and in which position appears for first time. \n",
    "Example:  \n",
    "~~~\n",
    "\n",
    "Input your sentence: We are travelling to Rome this summer. \n",
    "Input character to check: e\n",
    "There are 5 'e' in your sentence, first appearing in position 2\n",
    "~~~\n"
   ]
  },
  {
   "cell_type": "code",
   "execution_count": 1,
   "metadata": {},
   "outputs": [
    {
     "name": "stdout",
     "output_type": "stream",
     "text": [
      "Input your string: Esta es mi frase mas larga\n",
      "Input character to check: a\n",
      "There are 5 'a' in your sentence, first appearing in position 3.\n"
     ]
    }
   ],
   "source": [
    "sentence = input('Input your sentence: ')\n",
    "a =  input('Input character to check: ')\n",
    "\n",
    "print(\"There are {} '{}' in your sentence, first appearing in position {}.\".format(sentence.count(a),a,sentence.find(a)))"
   ]
  },
  {
   "cell_type": "markdown",
   "metadata": {},
   "source": [
    "### P4_03.  \n",
    "Write a program that reads a sentence from terminal and counts how may words end in ‘s’.  \n",
    "Example:  \n",
    "~~~\n",
    "Input your sentence: This is a very simple exercise.  \n",
    "There are two words ending in 's'\n",
    "~~~"
   ]
  },
  {
   "cell_type": "code",
   "execution_count": 3,
   "metadata": {},
   "outputs": [
    {
     "name": "stdout",
     "output_type": "stream",
     "text": [
      "Input your sentence: Tis is veri easy\n",
      "There are two words ending in 's'\n"
     ]
    }
   ],
   "source": [
    "sentence = input('Input your sentence: ')\n",
    "words_in_s = [word for word in sentence.split() if word.endswith('s')]\n",
    "print(\"There are two words ending in 's'\".format(len(words_in_s)))"
   ]
  },
  {
   "cell_type": "markdown",
   "metadata": {},
   "source": [
    "### P4_04.  \n",
    "Write a program that reads an string and returns the length of the longest running subsequence of digits.  \n",
    "Example:  \n",
    "~~~\n",
    "Input your string: efg316er4li98bdtr421p43  \n",
    "The longest all digits subsequence is of length 3 (..316..)\n",
    "~~~\n",
    "\n",
    "    "
   ]
  },
  {
   "cell_type": "code",
   "execution_count": 8,
   "metadata": {},
   "outputs": [
    {
     "name": "stdout",
     "output_type": "stream",
     "text": [
      "Input your sentence: efg316er4li98bdtr421p43\n",
      "The longest all digits subsequence is of length 3 (..316..)\n"
     ]
    }
   ],
   "source": [
    "sentence = input('Input your sentence: ')\n",
    "digits = 0\n",
    "longest_seq = []\n",
    "seq = []\n",
    "\n",
    "for c in sentence:\n",
    "    if c.isdigit():\n",
    "        seq.append(c)\n",
    "        digits +=1\n",
    "    else:\n",
    "        if len(seq) > len(longest_seq):\n",
    "            longest_seq = seq\n",
    "        seq = []\n",
    "            \n",
    "            \n",
    "print(\"The longest all digits subsequence is of length {} (..{}..)\".format(len(longest_seq),''.join(longest_seq)))           "
   ]
  },
  {
   "cell_type": "markdown",
   "metadata": {},
   "source": [
    "### P4_05.  \n",
    "Write a program that reads an string and tell us if the string contains any digit..\n",
    "~~~\n",
    "Input your string: efg316er4li98bdtr421p43  \n",
    "Your string has at least one digit\n",
    "~~~\n",
    "\n",
    "    "
   ]
  },
  {
   "cell_type": "code",
   "execution_count": null,
   "metadata": {
    "collapsed": true
   },
   "outputs": [],
   "source": [
    "# Your code here\n"
   ]
  },
  {
   "cell_type": "markdown",
   "metadata": {},
   "source": [
    "### P4_06.  \n",
    "Write a program that reads an string if all characters are digits.\n",
    "~~~\n",
    "Input your string: efg316er4li98bdtr421p43  \n",
    "Not all your characters are digits\n",
    "~~~\n",
    "\n",
    "    "
   ]
  },
  {
   "cell_type": "code",
   "execution_count": null,
   "metadata": {
    "collapsed": true
   },
   "outputs": [],
   "source": [
    "# Your code here\n"
   ]
  },
  {
   "cell_type": "markdown",
   "metadata": {},
   "source": [
    "### P4_07.  \n",
    "Write a program that reads an string and returns a new string where all digits have been replaced by yphens.\n",
    "Input your string: efg316er4li98bdtr421p43  \n",
    "The new string is: efg---er-li--bdtr---p--\n",
    "~~~\n",
    "\n",
    "    "
   ]
  },
  {
   "cell_type": "code",
   "execution_count": null,
   "metadata": {
    "collapsed": true
   },
   "outputs": [],
   "source": [
    "# Your code here\n"
   ]
  },
  {
   "cell_type": "markdown",
   "metadata": {},
   "source": [
    "### P4_08.  \n",
    "Write a program that reads a sequence of ‘+’ and ‘-‘ and returns the length of every subsequence of same element\n",
    "Example: \n",
    "~~~\n",
    "Input your string: +++-++----  \n",
    "3 1 2 4\n",
    "~~~\n"
   ]
  },
  {
   "cell_type": "code",
   "execution_count": null,
   "metadata": {
    "collapsed": true
   },
   "outputs": [],
   "source": [
    "# Your code here\n"
   ]
  },
  {
   "cell_type": "markdown",
   "metadata": {},
   "source": [
    "### P4_09.  \n",
    "Write a program that reads an string and checks if it is palindromic (a palindrome is a sequence of characters which reads the same backward as forward, such as 'madam' or 'racecar').  \n",
    "Example:  \n",
    "~~~\n",
    "Input your string: madam\n",
    "Your string is palindromic\n",
    "~~~\n",
    "Improve your code to detect sentences:\n",
    "~~~\n",
    "Was it a car or a cat I saw\n",
    "~~~"
   ]
  },
  {
   "cell_type": "code",
   "execution_count": null,
   "metadata": {
    "collapsed": true
   },
   "outputs": [],
   "source": [
    "# Your code here\n"
   ]
  },
  {
   "cell_type": "markdown",
   "metadata": {},
   "source": [
    "### P4_10.  \n",
    "Write a program that reads aword and shows something like the examples below. (Hin: You can use **len()** to determine the number of letters).\n",
    "\n",
    "Example:  \n",
    "~~~\n",
    "Input your string: TARAZONA\n",
    "T  A  R  A  Z  O  N  A       \n",
    "   A  R  A  Z  O  N     \n",
    "      R  A  Z  O    \n",
    "         A  Z    \n",
    "\n",
    "Input your string: CADIZ\n",
    "C  A  D  I  Z  \n",
    "   A  D  I\t\n",
    "      D\t\t\n",
    "~~~\n"
   ]
  },
  {
   "cell_type": "code",
   "execution_count": null,
   "metadata": {
    "collapsed": true
   },
   "outputs": [],
   "source": [
    "# Your code here\n"
   ]
  },
  {
   "cell_type": "markdown",
   "metadata": {},
   "source": [
    "### P4_11.  \n",
    "Write a program that reads an string **c** and builds a new string **s** with the same characters than **c** but ordered in a way that uppercase letters go first  \n",
    "Example: \n",
    "\n",
    "~~~\n",
    "Input your string: zCHnsTrcA   \n",
    "Your new string is: CHTAznsrc  \n",
    "~~~\n",
    "\n"
   ]
  },
  {
   "cell_type": "code",
   "execution_count": null,
   "metadata": {
    "collapsed": true
   },
   "outputs": [],
   "source": [
    "# Your code here\n"
   ]
  }
 ],
 "metadata": {
  "kernelspec": {
   "display_name": "Python 3",
   "language": "python",
   "name": "python3"
  },
  "language_info": {
   "codemirror_mode": {
    "name": "ipython",
    "version": 3
   },
   "file_extension": ".py",
   "mimetype": "text/x-python",
   "name": "python",
   "nbconvert_exporter": "python",
   "pygments_lexer": "ipython3",
   "version": "3.6.6"
  }
 },
 "nbformat": 4,
 "nbformat_minor": 2
}
